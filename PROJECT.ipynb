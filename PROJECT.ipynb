{
 "cells": [
  {
   "cell_type": "code",
   "execution_count": 10,
   "id": "f14c8adc-8863-4fcb-adee-94bc43d54cd6",
   "metadata": {},
   "outputs": [
    {
     "name": "stdout",
     "output_type": "stream",
     "text": [
      "                             CINEPOLIS                              \n",
      "                 MOVIE TICKET                \n"
     ]
    },
    {
     "name": "stdin",
     "output_type": "stream",
     "text": [
      "enter movie name:  uri\n"
     ]
    },
    {
     "name": "stdout",
     "output_type": "stream",
     "text": [
      "press 1 for normal seat (price - 220/-)\n",
      "    press 2 for recliner seat (price - 500/-)\n"
     ]
    },
    {
     "name": "stdin",
     "output_type": "stream",
     "text": [
      "enter your choice between 1 or 2:  2\n",
      "enter no of seats:  6\n",
      "add combo? (yes/no)  yes\n",
      "press A for 1 coke + 1 Burger(180)\n",
      "        press S for 2 coke + cheese nachos (520) S\n",
      "quantity:  3\n"
     ]
    },
    {
     "name": "stdout",
     "output_type": "stream",
     "text": [
      "______________________________\n",
      "bill:  4560\n",
      "______________________________\n"
     ]
    },
    {
     "name": "stdin",
     "output_type": "stream",
     "text": [
      "next person yes\n"
     ]
    },
    {
     "name": "stdout",
     "output_type": "stream",
     "text": [
      "                             CINEPOLIS                              \n",
      "                 MOVIE TICKET                \n"
     ]
    },
    {
     "name": "stdin",
     "output_type": "stream",
     "text": [
      "enter movie name:  uri\n"
     ]
    },
    {
     "name": "stdout",
     "output_type": "stream",
     "text": [
      "press 1 for normal seat (price - 220/-)\n",
      "    press 2 for recliner seat (price - 500/-)\n"
     ]
    },
    {
     "name": "stdin",
     "output_type": "stream",
     "text": [
      "enter your choice between 1 or 2:  2\n",
      "enter no of seats:  11\n"
     ]
    },
    {
     "name": "stdout",
     "output_type": "stream",
     "text": [
      "recliner seats are not available\n"
     ]
    }
   ],
   "source": [
    "price_n = 220\n",
    "price_recliner = 500\n",
    "total = 0\n",
    "normal = 120\n",
    "recliner = 10\n",
    "\n",
    "\n",
    "while True:\n",
    "\n",
    "    txt = \" CINEPOLIS \"\n",
    "    x = txt.center(68,\" \")\n",
    "    print(x)\n",
    "\n",
    "    txt = \" MOVIE TICKET \"\n",
    "    x = txt.center(45,\" \")\n",
    "    print(x)\n",
    "\n",
    "    name = input(\"enter movie name: \")\n",
    "    print(\"\"\"press 1 for normal seat (price - 220/-)\n",
    "    press 2 for recliner seat (price - 500/-)\"\"\")\n",
    "\n",
    "    choice = int(input(\"enter your choice between 1 or 2: \"))\n",
    "    seats = int(input(\"enter no of seats: \"))\n",
    "\n",
    "    if choice == 1:\n",
    "        if seats > normal:\n",
    "            print(\"normal seats are not available\")\n",
    "\n",
    "        else:\n",
    "            total = seats*price_n\n",
    "            normal -= seats\n",
    "\n",
    "    elif choice == 2:\n",
    "        if seats >recliner:\n",
    "            print(\"recliner seats are not available\")\n",
    "            break\n",
    "\n",
    "        else:\n",
    "            total = seats*price_recliner\n",
    "            recliner -=seats\n",
    "            \n",
    "    else:\n",
    "        print(\" HOUSEFULL !!! \")\n",
    "\n",
    "    d = input(\"add combo? (yes/no) \")\n",
    "    if d == \"yes\":\n",
    "        c =input(\"\"\"press A for 1 coke + 1 Burger(180)\n",
    "        press S for 2 coke + cheese nachos (520)\"\"\")\n",
    "        \n",
    "        combo = int(input(\"quantity: \"))\n",
    "        if c == \"A\":\n",
    "            total += combo*180\n",
    "\n",
    "        elif c ==\"S\":\n",
    "            total += combo*520\n",
    "\n",
    "    else:\n",
    "        d ==\"no\"\n",
    "        \n",
    "    print(\"_\"*30)\n",
    "    print(\"bill: \",total)\n",
    "    print(\"_\"*30)\n",
    "\n",
    "    next_p = input(\"next person\")\n",
    "    if next_p == \"no\":\n",
    "        break\n",
    "         "
   ]
  },
  {
   "cell_type": "code",
   "execution_count": null,
   "id": "9a8fac81-d8d5-4bb8-bec7-0873d2ab859f",
   "metadata": {},
   "outputs": [],
   "source": []
  }
 ],
 "metadata": {
  "kernelspec": {
   "display_name": "Python 3 (ipykernel)",
   "language": "python",
   "name": "python3"
  },
  "language_info": {
   "codemirror_mode": {
    "name": "ipython",
    "version": 3
   },
   "file_extension": ".py",
   "mimetype": "text/x-python",
   "name": "python",
   "nbconvert_exporter": "python",
   "pygments_lexer": "ipython3",
   "version": "3.11.5"
  }
 },
 "nbformat": 4,
 "nbformat_minor": 5
}
